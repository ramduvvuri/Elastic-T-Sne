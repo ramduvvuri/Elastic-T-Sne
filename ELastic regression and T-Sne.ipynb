{
 "cells": [
  {
   "cell_type": "code",
   "execution_count": 21,
   "id": "290fdac8-2697-4a1c-8c2e-79235a31353c",
   "metadata": {},
   "outputs": [],
   "source": [
    "import numpy as np\n",
    "import pandas as pd\n",
    "import matplotlib.pyplot as plt\n",
    "from sklearn.model_selection import train_test_split\n",
    "from sklearn.preprocessing import StandardScaler"
   ]
  },
  {
   "cell_type": "code",
   "execution_count": 22,
   "id": "8033b134-ee20-49b7-8a26-fa2765e84aad",
   "metadata": {},
   "outputs": [],
   "source": [
    "df = pd.read_csv(\"train.csv\")"
   ]
  },
  {
   "cell_type": "code",
   "execution_count": 23,
   "id": "031b47cf-0c0c-47a7-a601-a8722df8d567",
   "metadata": {},
   "outputs": [],
   "source": [
    "obj_cols = df.select_dtypes(include='object')\n",
    "num_cols = df.select_dtypes(include='number')"
   ]
  },
  {
   "cell_type": "code",
   "execution_count": 24,
   "id": "5083f64d-525f-4354-af6f-4571d9fb8c4b",
   "metadata": {},
   "outputs": [],
   "source": [
    "for col in obj_cols:\n",
    "    df[col] = df[col].fillna(df[col].mode()[0])\n",
    "\n",
    "for col in num_cols:\n",
    "    df[col] = df[col].fillna(df[col].mean())\n",
    "\n",
    "df = pd.get_dummies(df)"
   ]
  },
  {
   "cell_type": "code",
   "execution_count": 25,
   "id": "6a836788-7a9f-4bd4-9449-8a52bd945ded",
   "metadata": {},
   "outputs": [],
   "source": [
    "import numpy as np\n",
    "import pandas as pd\n",
    "\n",
    "def initialize_parameters(n_features):\n",
    "    w = np.zeros(n_features)\n",
    "    b = 0\n",
    "    return w, b\n",
    "\n",
    "def predict(X, w, b):\n",
    "    return np.dot(X, w) + b\n",
    "\n",
    "def gradient_descent(X, y, y_pred, w, b, a, l1, l2):\n",
    "    m, n = X.shape\n",
    "    reg_term = np.where(w > 0, l1, -l1)\n",
    "    \n",
    "    dw = (-2 * np.dot(X.T, (y - y_pred)) + reg_term + 2 * l2 * w) / m\n",
    "    db = -2 * np.sum(y - y_pred) / m\n",
    "\n",
    "    w = w - a * dw\n",
    "    b = b - a * db\n",
    "\n",
    "    return w, b\n",
    "\n",
    "def train(X, y, a, iters, l1, l2):\n",
    "    w, b = initialize_parameters(X.shape[1])\n",
    "    for _ in range(iters):\n",
    "        y_pred = predict(X, w, b)\n",
    "        w, b = gradient_descent(X, y, y_pred, w, b, a, l1, l2)\n",
    "    return w, b\n",
    "\n",
    "def accuracy(y, y_pred):\n",
    "    ss_res = np.sum((y - y_pred) ** 2)\n",
    "    ss_tot = np.sum((y - np.mean(y)) ** 2)\n",
    "    r2 = 1 - (ss_res / ss_tot)\n",
    "    return round(r2, 4)"
   ]
  },
  {
   "cell_type": "code",
   "execution_count": 26,
   "id": "6b89bf26-eed8-4dd6-8d30-d23f233ecdb4",
   "metadata": {},
   "outputs": [
    {
     "name": "stdout",
     "output_type": "stream",
     "text": [
      "R² Score : 0.696\n"
     ]
    }
   ],
   "source": [
    "X = df.drop(columns=[\"SalePrice\"]).values\n",
    "y = df[\"SalePrice\"].values\n",
    "\n",
    "scaler = StandardScaler()\n",
    "X_scaled = scaler.fit_transform(X)\n",
    "y_scaled = scaler.fit_transform(y.reshape(-1, 1)).flatten()\n",
    "\n",
    "X_train, X_test, y_train, y_test = train_test_split(X_scaled, y_scaled, test_size=0.2, random_state=42)\n",
    "w, b = train(X_train, y_train, a=0.01, iters=1000, l1=500, l2=0.1)\n",
    "y_pred = predict(X_test, w, b)\n",
    "\n",
    "print(\"R² Score :\", accuracy(y_test, y_pred))"
   ]
  },
  {
   "cell_type": "code",
   "execution_count": 27,
   "id": "94d6a2d3-0c60-4c04-a39e-b1be25dbff40",
   "metadata": {},
   "outputs": [
    {
     "name": "stdout",
     "output_type": "stream",
     "text": [
      "R² Score          : 0.8656476560274007\n"
     ]
    }
   ],
   "source": [
    "from sklearn.linear_model import ElasticNet\n",
    "from sklearn.metrics import r2_score, mean_squared_error\n",
    "\n",
    "model = ElasticNet(alpha = 0.1, l1_ratio = 0.5)\n",
    "model.fit(X_train, y_train)\n",
    "\n",
    "y_pred = model.predict(X_train)\n",
    "\n",
    "print(\"R² Score          :\", r2_score(y_train, y_pred))"
   ]
  },
  {
   "cell_type": "code",
   "execution_count": 28,
   "id": "8359cb65-707c-45ed-9a68-0d471268d60b",
   "metadata": {},
   "outputs": [],
   "source": [
    "#T-sne"
   ]
  },
  {
   "cell_type": "code",
   "execution_count": null,
   "id": "33e2ea21-d8fb-4624-8da3-fa3259ee81c9",
   "metadata": {},
   "outputs": [
    {
     "name": "stdout",
     "output_type": "stream",
     "text": [
      "Iteration 0: KL divergence = 11.7150\n"
     ]
    }
   ],
   "source": [
    "def high_dims(X, sigma=1.0):\n",
    "    D = np.square(X[:, np.newaxis] - X).sum(axis=2)\n",
    "    D = np.clip(D, 1e-7, 1e3)  # Prevent overflow/underflow\n",
    "    P = np.exp(-D / (2 * sigma ** 2))\n",
    "    np.fill_diagonal(P, 0)\n",
    "    P = P / np.sum(P)\n",
    "    return P\n",
    "\n",
    "def low_dims(Y):\n",
    "    D = np.square(Y[:, np.newaxis] - Y).sum(axis=2)\n",
    "    D = np.clip(D, 1e-7, 1e3)\n",
    "    Q = 1 / (1 + D)\n",
    "    np.fill_diagonal(Q, 0)\n",
    "    Q = Q / np.sum(Q)\n",
    "    return Q\n",
    "\n",
    "def tsne(X, no_dims=2, max_iter=1000, learning_rate=100.0, sigma=1.0):\n",
    "    X = X - np.mean(X, axis=0)\n",
    "    Y = np.random.randn(X.shape[0], no_dims)\n",
    "    P = high_dims(X, sigma)\n",
    "\n",
    "    for iter in range(max_iter):\n",
    "        Q = low_dims(Y)\n",
    "        PQ = P - Q\n",
    "        dY = np.zeros_like(Y)\n",
    "\n",
    "        for i in range(X.shape[0]):\n",
    "            dY[i] = 4 * np.sum((PQ[:, i][:, None] * (Y[i] - Y)), axis=0)\n",
    "\n",
    "        Y -= learning_rate * dY\n",
    "\n",
    "        if iter % 100 == 0:\n",
    "            cost = np.sum(P * np.log((P + 1e-12) / (Q + 1e-12)))\n",
    "            print(f\"Iteration {iter}: KL divergence = {cost:.4f}\")\n",
    "\n",
    "    return Y\n",
    "\n",
    "Y = tsne(X_scaled, no_dims=2, max_iter=500, learning_rate=0.0001, sigma=1.0)\n",
    "\n",
    "plt.figure(figsize=(8, 6))\n",
    "plt.scatter(Y[:, 0], Y[:, 1], s=50)\n",
    "plt.title(\"t-SNE Projection\")\n",
    "plt.grid(True)\n",
    "plt.show()"
   ]
  }
 ],
 "metadata": {
  "kernelspec": {
   "display_name": "Python 3 (ipykernel)",
   "language": "python",
   "name": "python3"
  },
  "language_info": {
   "codemirror_mode": {
    "name": "ipython",
    "version": 3
   },
   "file_extension": ".py",
   "mimetype": "text/x-python",
   "name": "python",
   "nbconvert_exporter": "python",
   "pygments_lexer": "ipython3",
   "version": "3.12.7"
  }
 },
 "nbformat": 4,
 "nbformat_minor": 5
}
